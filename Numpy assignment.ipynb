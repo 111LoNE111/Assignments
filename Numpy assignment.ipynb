{
 "cells": [
  {
   "cell_type": "code",
   "execution_count": 1,
   "metadata": {},
   "outputs": [],
   "source": [
    "import numpy as np"
   ]
  },
  {
   "cell_type": "code",
   "execution_count": 25,
   "metadata": {},
   "outputs": [
    {
     "name": "stdout",
     "output_type": "stream",
     "text": [
      "3\n",
      "[5.0, 4.666666666666667, 5.666666666666667, 6.666666666666667, 9.666666666666666, 28.666666666666668, 49.333333333333336, 72.66666666666667, 84.0, 93.33333333333333, 116.33333333333333]\n"
     ]
    }
   ],
   "source": [
    "class Moving_Average:\n",
    "    def __init__(self,window,arr):\n",
    "        self.window=window\n",
    "        self.array=arr\n",
    "    def movingavg(self):\n",
    "        b=0\n",
    "        a=[]\n",
    "        for i in range(len(self.array)):\n",
    "            b=b+self.array[i]\n",
    "            if i>=2:\n",
    "                c=(b/self.window)\n",
    "                a.append(c)\n",
    "                b=b-self.array[i-2]\n",
    "        return a\n",
    "    \n",
    "arr=[3, 5, 7, 2, 8, 10, 11, 65, 72, 81, 99, 100, 150]\n",
    "window=int(input())\n",
    "print(Moving_Average(window,arr).movingavg())"
   ]
  },
  {
   "cell_type": "code",
   "execution_count": 26,
   "metadata": {},
   "outputs": [
    {
     "name": "stdout",
     "output_type": "stream",
     "text": [
      "[5.0, 4.666666666666667, 5.666666666666667, 6.666666666666667, 9.666666666666666, 28.666666666666668, 49.333333333333336, 72.66666666666667, 84.0, 93.33333333333333, 116.33333333333333]\n"
     ]
    }
   ],
   "source": [
    "a=[]\n",
    "def movingavg(a):\n",
    "    b=0\n",
    "    for i in range(len(arr)):\n",
    "            b=b+arr[i]\n",
    "            if i>=2:\n",
    "                c=(b/window)\n",
    "                a.append(c)\n",
    "                b=b-arr[i-2]\n",
    "    return a\n",
    "print(movingavg(a))"
   ]
  },
  {
   "cell_type": "code",
   "execution_count": null,
   "metadata": {},
   "outputs": [],
   "source": []
  }
 ],
 "metadata": {
  "kernelspec": {
   "display_name": "Python 3",
   "language": "python",
   "name": "python3"
  },
  "language_info": {
   "codemirror_mode": {
    "name": "ipython",
    "version": 3
   },
   "file_extension": ".py",
   "mimetype": "text/x-python",
   "name": "python",
   "nbconvert_exporter": "python",
   "pygments_lexer": "ipython3",
   "version": "3.7.3"
  }
 },
 "nbformat": 4,
 "nbformat_minor": 2
}
